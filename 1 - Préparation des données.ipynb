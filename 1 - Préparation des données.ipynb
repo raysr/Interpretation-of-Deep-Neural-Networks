{
 "cells": [
  {
   "cell_type": "markdown",
   "metadata": {
    "colab_type": "text",
    "id": "SadEp8r4pUzI"
   },
   "source": [
    "# Initialisation et import des librairies"
   ]
  },
  {
   "cell_type": "code",
   "execution_count": 1,
   "metadata": {
    "colab": {
     "base_uri": "https://localhost:8080/",
     "height": 884
    },
    "colab_type": "code",
    "id": "9FeK0-Osamoj",
    "outputId": "5b163aac-4462-430b-d626-ab6dc3ecc794"
   },
   "outputs": [
    {
     "name": "stdout",
     "output_type": "stream",
     "text": [
      "--2020-04-30 21:47:24--  ftp://ftp.ncbi.nlm.nih.gov/geo/series/GSE13nnn/GSE13204/soft/GSE13204_family.soft.gz\n",
      "           => « GSE13204_family.soft.gz »\n",
      "Résolution de ftp.ncbi.nlm.nih.gov (ftp.ncbi.nlm.nih.gov)… 130.14.250.13, 2607:f220:41e:250::11\n",
      "Connexion à ftp.ncbi.nlm.nih.gov (ftp.ncbi.nlm.nih.gov)|130.14.250.13|:21… connecté.\n",
      "Ouverture de session en tant que anonymous… Session établie.\n",
      "==> SYST ... terminé.    ==> PWD ... terminé.\n",
      "==> TYPE I ... terminé.  ==> CWD (1) /geo/series/GSE13nnn/GSE13204/soft ... terminé.\n",
      "==> SIZE GSE13204_family.soft.gz ... 2058941604\n",
      "==> PASV ... terminé.    ==> RETR GSE13204_family.soft.gz ... terminé.\n",
      "Taille : 2058941604 (1,9G) (non certifiée)\n",
      "\n",
      "GSE13204_family.sof 100%[===================>]   1,92G  1,93MB/s    ds 23m 35s \n",
      "\n",
      "2020-04-30 22:11:00 (1,39 MB/s) - « GSE13204_family.soft.gz » sauvegardé [2058941604]\n",
      "\n"
     ]
    }
   ],
   "source": [
    "import numpy    \n",
    "from sklearn.preprocessing import LabelEncoder\n",
    "import GEOparse\n",
    "import pandas\n",
    "from sklearn.model_selection import train_test_split\n",
    "\n",
    "import os\n",
    "if not os.path.isfile(\"GSE13204_family.soft.gz\"):\n",
    "  !wget -O \"GSE13204_family.soft.gz\" \"ftp://ftp.ncbi.nlm.nih.gov/geo/series/GSE13nnn/GSE13204/soft/GSE13204_family.soft.gz\" "
   ]
  },
  {
   "cell_type": "markdown",
   "metadata": {
    "colab_type": "text",
    "id": "lIaz8Cucakkf"
   },
   "source": [
    "# Traitement des données"
   ]
  },
  {
   "cell_type": "code",
   "execution_count": 2,
   "metadata": {
    "colab": {
     "base_uri": "https://localhost:8080/",
     "height": 52
    },
    "colab_type": "code",
    "id": "zggScznDaklA",
    "outputId": "e4678ca7-b388-4b6d-9f3c-30a783a37c43"
   },
   "outputs": [
    {
     "name": "stderr",
     "output_type": "stream",
     "text": [
      "/home/raysamram/.local/lib/python3.8/site-packages/GEOparse/GEOparse.py:104: DtypeWarning: Columns (2) have mixed types.Specify dtype option on import or set low_memory=False.\n",
      "  return parse_GSE(filepath)\n"
     ]
    }
   ],
   "source": [
    "# Soft file\n",
    "\n",
    "gse = GEOparse.get_GEO(filepath=\"GSE13204_family.soft.gz\", silent = True)"
   ]
  },
  {
   "cell_type": "code",
   "execution_count": 3,
   "metadata": {
    "colab": {
     "base_uri": "https://localhost:8080/",
     "height": 34
    },
    "colab_type": "code",
    "id": "U-Cyc7VyaklG",
    "outputId": "c106af5a-cf82-4afc-cb85-373a9fcce025"
   },
   "outputs": [
    {
     "name": "stdout",
     "output_type": "stream",
     "text": [
      "['GSM329407', 'GSM329408', 'GSM329409', 'GSM329410', 'GSM329411', 'GSM329412', 'GSM329413', 'GSM329414', 'GSM329415', 'GSM329416']\n"
     ]
    }
   ],
   "source": [
    "gsms = gse.gsms\n",
    "print(list(gsms.keys())[:10])"
   ]
  },
  {
   "cell_type": "code",
   "execution_count": 4,
   "metadata": {
    "colab": {
     "base_uri": "https://localhost:8080/",
     "height": 402
    },
    "colab_type": "code",
    "id": "t2YeahVDaklM",
    "outputId": "97e745b7-0688-452e-e96f-0d0474c89de2"
   },
   "outputs": [
    {
     "name": "stdout",
     "output_type": "stream",
     "text": [
      "               ID_REF    VALUE_DS ABS_CALL  DETECTION P-VALUE     VALUE\n",
      "0      AFFX-BioB-5_at   5614.9300        P           0.000127       NaN\n",
      "1      AFFX-BioB-M_at   9707.9000        P           0.000044       NaN\n",
      "2      AFFX-BioB-3_at   5331.4200        P           0.000044       NaN\n",
      "3      AFFX-BioC-5_at  17928.6000        P           0.000044       NaN\n",
      "4      AFFX-BioC-3_at  18722.0000        P           0.000044       NaN\n",
      "...               ...         ...      ...                ...       ...\n",
      "54670      1570644_at     57.2892        A           0.870361  0.058415\n",
      "54671      1570645_at    127.5280        A           0.398926  0.158527\n",
      "54672      1570650_at    214.8240        A           0.601074  0.247337\n",
      "54673      1570651_at    488.8230        P           0.046143  0.416758\n",
      "54674      1570653_at    122.2930        A           0.466064  0.152232\n",
      "\n",
      "[54675 rows x 5 columns]\n",
      "                                                         description\n",
      "ID_REF                                                              \n",
      "VALUE_DS           The signal used was DS, see Liu, W.-m., R. Li,...\n",
      "ABS_CALL                                                            \n",
      "DETECTION P-VALUE                                                   \n",
      "VALUE              The signal used was DQN3, i.e., DQN signal nor...\n",
      "{'title': ['MILES stage 1 data N1_0001'], 'geo_accession': ['GSM329407'], 'status': ['Public on Sep 30 2009'], 'submission_date': ['Oct 10 2008'], 'last_update_date': ['Nov 14 2018'], 'type': ['RNA'], 'channel_count': ['1'], 'source_name_ch1': ['Leukemia patient sample'], 'organism_ch1': ['Homo sapiens'], 'taxid_ch1': ['9606'], 'characteristics_ch1': ['sample type: bone marrow', 'leukemia class: mature B-ALL with t(8;14)'], 'treatment_protocol_ch1': ['Samples are from untreated patients.'], 'growth_protocol_ch1': ['not applicable'], 'molecule_ch1': ['total RNA'], 'extract_protocol_ch1': ['The total RNA was purified either with Qiagen RNeasy Mini kits (Qiagen, Hilden, Germany) or with TRIzol-based protocols'], 'label_ch1': ['biotin'], 'label_protocol_ch1': ['For each sample preparation, total RNA was converted into double-stranded cDNA by reverse transcription using a cDNA Synthesis System kit including an oligo(dT)24 – T7 primer (Roche Applied Science, Mannheim, Germany) and Poly-A control transcripts (Affymetrix, Santa Clara, CA, USA). The generated cRNA was purified using the GeneChip Sample Cleanup Module (Affymetrix) and quantified using the NanoDrop ND-1000 spectrophotometer (NanoDrop Technologies, Wilmington, DE, USA). The incubation steps during the cDNA synthesis, in vitro transcription reaction, and target fragmentation were performed using the Hybex Microarray Incubation System (SciGene, Sunnyvale, CA, USA) and Eppendorf ThermoStat plus instruments (Eppendorf, Hamburg, Germany).'], 'hyb_protocol': ['Hybridization, washing, and staining protocols, respectively, were performed on Affymetrix GeneChip instruments (Hybridization Oven 640, Fluidics Station FS450) as recommended by the manufacturer.'], 'scan_protocol': ['Scanning was performed on Affymetrix GeneChip Scanner GCS3000 instruments as recommended by the manufacturer using default settings. The software used was GCOS 1.2 or higher.'], 'data_processing': ['Data pre-processing included a summarization and quantile normalization step to generate probe set level signal intensities for each microarray experiment and was performed as previously published by Liu WM et al. PQN and DQN: algorithms for expression microarrays. J.Theor.Biol. 2006;243:273-278.'], 'platform_id': ['GPL570'], 'contact_name': ['Wei-Min,,Liu'], 'contact_email': ['wei-min.liu@roche.com'], 'contact_phone': ['9257308446'], 'contact_institute': ['Roche Molecular Systems'], 'contact_address': ['4300 Hacienda Drive'], 'contact_city': ['Pleasanton'], 'contact_state': ['CA'], 'contact_zip/postal_code': ['94588'], 'contact_country': ['USA'], 'supplementary_file': ['ftp://ftp.ncbi.nlm.nih.gov/geo/samples/GSM329nnn/GSM329407/suppl/GSM329407.CEL.gz'], 'relation': ['Reanalyzed by: GSE122511'], 'series_id': ['GSE13159', 'GSE13204'], 'data_row_count': ['54675']}\n"
     ]
    }
   ],
   "source": [
    "print(gsms['GSM329411'].table)\n",
    "print(gsms['GSM329407'].columns)\n",
    "print(gsms['GSM329407'].metadata)"
   ]
  },
  {
   "cell_type": "code",
   "execution_count": 5,
   "metadata": {
    "colab": {
     "base_uri": "https://localhost:8080/",
     "height": 330
    },
    "colab_type": "code",
    "id": "ndlonuq5aklR",
    "outputId": "97639fa3-6119-44fb-d52c-de55f57a0c1e"
   },
   "outputs": [
    {
     "name": "stdout",
     "output_type": "stream",
     "text": [
      "leukemia class: Pro-B-ALL with t(11q23)/MLL\n",
      "leukemia class: ALL with hyperdiploid karyotype\n",
      "leukemia class: mature B-ALL with t(8;14)\n",
      "leukemia class: ALL with t(1;19)\n",
      "leukemia class: AML with t(11q23)/MLL\n",
      "leukemia class: CLL\n",
      "leukemia class: CML\n",
      "leukemia class: MDS\n",
      "leukemia class: c-ALL/Pre-B-ALL without t(9;22)\n",
      "leukemia class: AML complex aberrant karyotype\n",
      "leukemia class: T-ALL\n",
      "leukemia class: Non-leukemia and healthy bone marrow\n",
      "leukemia class: AML with t(15;17)\n",
      "leukemia class: AML with inv(16)/t(16;16)\n",
      "leukemia class: c-ALL/Pre-B-ALL with t(9;22)\n",
      "leukemia class: AML with t(8;21)\n",
      "leukemia class: ALL with t(12;21)\n",
      "leukemia class: AML with normal karyotype + other abnormalities\n"
     ]
    }
   ],
   "source": [
    "# Label\n",
    "lise = []\n",
    "alignments = {}\n",
    "for i in gsms.keys():\n",
    "    lab = gsms[i].metadata['characteristics_ch1'][1]\n",
    "    lise.append(lab)\n",
    "    alignments[i] = lab \n",
    "for i in list(set(lise)):\n",
    "    print(i)"
   ]
  },
  {
   "cell_type": "code",
   "execution_count": 6,
   "metadata": {
    "colab": {
     "base_uri": "https://localhost:8080/",
     "height": 607
    },
    "colab_type": "code",
    "id": "bpDzE8lXaklV",
    "outputId": "1417d2c4-70d0-4164-8528-40572407265b"
   },
   "outputs": [
    {
     "name": "stdout",
     "output_type": "stream",
     "text": [
      "Number of patients : 3248\n",
      "dict_keys(['GPL570', 'GPL7473'])\n",
      "                                                                        description\n",
      "ID                                Affymetrix Probe Set ID LINK_PRE:\"https://www....\n",
      "GB_ACC                            GenBank Accession Number LINK_PRE:\"http://www....\n",
      "SPOT_ID                                                         identifies controls\n",
      "Species Scientific Name           The genus and species of the organism represen...\n",
      "Annotation Date                   The date that the annotations for this probe a...\n",
      "...                                                                             ...\n",
      "ENTREZ_GENE_ID                    Entrez Gene Database UID LINK_PRE:\"http://www....\n",
      "RefSeq Transcript ID              References to multiple sequences in RefSeq. Th...\n",
      "Gene Ontology Biological Process  Gene Ontology Consortium Biological Process de...\n",
      "Gene Ontology Cellular Component  Gene Ontology Consortium Cellular Component de...\n",
      "Gene Ontology Molecular Function  Gene Ontology Consortium Molecular Function de...\n",
      "\n",
      "[16 rows x 1 columns]\n",
      "                    ID  GB_ACC    SPOT_ID Species Scientific Name  \\\n",
      "0            1007_s_at  U48705        NaN            Homo sapiens   \n",
      "1              1053_at  M87338        NaN            Homo sapiens   \n",
      "2               117_at  X51757        NaN            Homo sapiens   \n",
      "3               121_at  X69699        NaN            Homo sapiens   \n",
      "4            1255_g_at  L36861        NaN            Homo sapiens   \n",
      "...                ...     ...        ...                     ...   \n",
      "54670   AFFX-ThrX-5_at     NaN  --Control            Homo sapiens   \n",
      "54671   AFFX-ThrX-M_at     NaN  --Control            Homo sapiens   \n",
      "54672  AFFX-TrpnX-3_at     NaN  --Control            Homo sapiens   \n",
      "54673  AFFX-TrpnX-5_at     NaN  --Control            Homo sapiens   \n",
      "54674  AFFX-TrpnX-M_at     NaN  --Control            Homo sapiens   \n",
      "\n",
      "      Annotation Date      Sequence Type                  Sequence Source  \\\n",
      "0         Oct 6, 2014  Exemplar sequence  Affymetrix Proprietary Database   \n",
      "1         Oct 6, 2014  Exemplar sequence                          GenBank   \n",
      "2         Oct 6, 2014  Exemplar sequence  Affymetrix Proprietary Database   \n",
      "3         Oct 6, 2014  Exemplar sequence                          GenBank   \n",
      "4         Oct 6, 2014  Exemplar sequence  Affymetrix Proprietary Database   \n",
      "...               ...                ...                              ...   \n",
      "54670     Oct 6, 2014   Control sequence  Affymetrix Proprietary Database   \n",
      "54671     Oct 6, 2014   Control sequence  Affymetrix Proprietary Database   \n",
      "54672     Oct 6, 2014   Control sequence  Affymetrix Proprietary Database   \n",
      "54673     Oct 6, 2014   Control sequence  Affymetrix Proprietary Database   \n",
      "54674     Oct 6, 2014   Control sequence  Affymetrix Proprietary Database   \n",
      "\n",
      "                                      Target Description  \\\n",
      "0      U48705 /FEATURE=mRNA /DEFINITION=HSU48705 Huma...   \n",
      "1      M87338 /FEATURE= /DEFINITION=HUMA1SBU Human re...   \n",
      "2      X51757 /FEATURE=cds /DEFINITION=HSP70B Human h...   \n",
      "3      X69699 /FEATURE= /DEFINITION=HSPAX8A H.sapiens...   \n",
      "4      L36861 /FEATURE=expanded_cds /DEFINITION=HUMGC...   \n",
      "...                                                  ...   \n",
      "54670  B. subtilis /GEN=thrC /DB_XREF=gb:X04603.1 /NO...   \n",
      "54671  B. subtilis /GEN=thrC, thrB /DB_XREF=gb:X04603...   \n",
      "54672  B. subtilis /GEN=trpC, trpF /DB_XREF=gb:K01391...   \n",
      "54673  B. subtilis /GEN=trpE, trpD /DB_XREF=gb:K01391...   \n",
      "54674  B. subtilis /GEN=trpD, trpC /DB_XREF=gb:K01391...   \n",
      "\n",
      "      Representative Public ID  \\\n",
      "0                       U48705   \n",
      "1                       M87338   \n",
      "2                       X51757   \n",
      "3                       X69699   \n",
      "4                       L36861   \n",
      "...                        ...   \n",
      "54670              AFFX-ThrX-5   \n",
      "54671              AFFX-ThrX-M   \n",
      "54672             AFFX-TrpnX-3   \n",
      "54673             AFFX-TrpnX-5   \n",
      "54674             AFFX-TrpnX-M   \n",
      "\n",
      "                                              Gene Title       Gene Symbol  \\\n",
      "0      discoidin domain receptor tyrosine kinase 1 //...  DDR1 /// MIR4640   \n",
      "1            replication factor C (activator 1) 2, 40kDa              RFC2   \n",
      "2                   heat shock 70kDa protein 6 (HSP70B')             HSPA6   \n",
      "3                                           paired box 8              PAX8   \n",
      "4                guanylate cyclase activator 1A (retina)            GUCA1A   \n",
      "...                                                  ...               ...   \n",
      "54670                                                NaN               NaN   \n",
      "54671                                                NaN               NaN   \n",
      "54672                                                NaN               NaN   \n",
      "54673                                                NaN               NaN   \n",
      "54674                                                NaN               NaN   \n",
      "\n",
      "          ENTREZ_GENE_ID                               RefSeq Transcript ID  \\\n",
      "0      780 /// 100616237  NM_001202521 /// NM_001202522 /// NM_001202523...   \n",
      "1                   5982  NM_001278791 /// NM_001278792 /// NM_001278793...   \n",
      "2                   3310                                          NM_002155   \n",
      "3                   7849  NM_003466 /// NM_013951 /// NM_013952 /// NM_0...   \n",
      "4                   2978                         NM_000409 /// XM_006715073   \n",
      "...                  ...                                                ...   \n",
      "54670                NaN                                                NaN   \n",
      "54671                NaN                                                NaN   \n",
      "54672                NaN                                                NaN   \n",
      "54673                NaN                                                NaN   \n",
      "54674                NaN                                                NaN   \n",
      "\n",
      "                        Gene Ontology Biological Process  \\\n",
      "0      0001558 // regulation of cell growth // inferr...   \n",
      "1      0000278 // mitotic cell cycle // traceable aut...   \n",
      "2      0000902 // cell morphogenesis // inferred from...   \n",
      "3      0001655 // urogenital system development // in...   \n",
      "4      0007165 // signal transduction // non-traceabl...   \n",
      "...                                                  ...   \n",
      "54670                                                NaN   \n",
      "54671                                                NaN   \n",
      "54672                                                NaN   \n",
      "54673                                                NaN   \n",
      "54674                                                NaN   \n",
      "\n",
      "                        Gene Ontology Cellular Component  \\\n",
      "0      0005576 // extracellular region // inferred fr...   \n",
      "1      0005634 // nucleus // inferred from electronic...   \n",
      "2      0005737 // cytoplasm // inferred from direct a...   \n",
      "3      0005634 // nucleus // inferred from direct ass...   \n",
      "4      0001750 // photoreceptor outer segment // infe...   \n",
      "...                                                  ...   \n",
      "54670                                                NaN   \n",
      "54671                                                NaN   \n",
      "54672                                                NaN   \n",
      "54673                                                NaN   \n",
      "54674                                                NaN   \n",
      "\n",
      "                        Gene Ontology Molecular Function  \n",
      "0      0000166 // nucleotide binding // inferred from...  \n",
      "1      0000166 // nucleotide binding // inferred from...  \n",
      "2      0000166 // nucleotide binding // inferred from...  \n",
      "3      0000979 // RNA polymerase II core promoter seq...  \n",
      "4      0005509 // calcium ion binding // inferred fro...  \n",
      "...                                                  ...  \n",
      "54670                                                NaN  \n",
      "54671                                                NaN  \n",
      "54672                                                NaN  \n",
      "54673                                                NaN  \n",
      "54674                                                NaN  \n",
      "\n",
      "[54675 rows x 16 columns]\n",
      "Count of genes :\n",
      "54630\n",
      "STAGE 1 DATA :2096\n",
      "STAGE 2 DATA :1152\n"
     ]
    }
   ],
   "source": [
    "# Assigning CEL files with their labels\n",
    "\n",
    "pandas.set_option('display.max_rows', 10)\n",
    "print(\"Number of patients : \"+str(len(gsms.keys())))\n",
    "gpls = gse.gpls\n",
    "print(gpls.keys())\n",
    "print(gpls['GPL570'].columns)\n",
    "print(gpls['GPL570'].table)\n",
    "#print(gpls.table)\n",
    "count_list = []\n",
    "print(\"Count of genes :\")\n",
    "df = gsms['GSM329411'].table.dropna()\n",
    "print(len(df))\n",
    "\n",
    "equivalents = {\n",
    "\"leukemia class: ALL with t(12;21)\":0,  # ALL\n",
    "\"leukemia class: c-ALL/Pre-B-ALL with t(9;22)\":0, # ALL\n",
    "\"leukemia class: AML with normal karyotype + other abnormalities\":1, # AML\n",
    "\"leukemia class: ALL with t(1;19)\":0, # ALL\n",
    "\"leukemia class: CLL\":2, # CLL\n",
    "\"leukemia class: AML with t(15;17)\":1, # AML\n",
    "\"leukemia class: Non-leukemia and healthy bone marrow\":5, # Non-Leukemia\n",
    "\"leukemia class: Pro-B-ALL with t(11q23)/MLL\":0, # ALL\n",
    "\"leukemia class: ALL with hyperdiploid karyotype\":0, # ALL\n",
    "\"leukemia class: T-ALL\":0, # ALL\n",
    "\"leukemia class: AML with t(8;21)\":1, # AML\n",
    "\"leukemia class: AML with inv(16)/t(16;16)\":1, # AML\n",
    "\"leukemia class: MDS\":4, # MDS\n",
    "\"leukemia class: mature B-ALL with t(8;14)\":0, # ALL\n",
    "\"leukemia class: c-ALL/Pre-B-ALL without t(9;22)\":0, # ALL\n",
    "\"leukemia class: AML with t(11q23)/MLL\":1, # AML\n",
    "\"leukemia class: CML\":3, # CML\n",
    "\"leukemia class: AML complex aberrant karyotype\":1, # AML\n",
    "}\n",
    "import numpy\n",
    "\n",
    "X = []\n",
    "Y = []\n",
    "count54 = 0\n",
    "count14 = 0\n",
    "all_labels = []\n",
    "for i in gsms:\n",
    "  j = gsms[i].table.dropna()\n",
    "  if len(j[\"VALUE_DS\"]) == 54630: \n",
    "    Y.append(numpy.array(equivalents[gsms[i].metadata['characteristics_ch1'][1]]))\n",
    "    all_labels.append(int(equivalents[gsms[i].metadata['characteristics_ch1'][1]]))\n",
    "    r = j[\"VALUE_DS\"].to_numpy()\n",
    "    X.append(r)\n",
    "    count54 += 1\n",
    "  else:\n",
    "    count14 +=1\n",
    "\n",
    "\n",
    "print(\"STAGE 1 DATA :\"+str(count54))   \n",
    "print(\"STAGE 2 DATA :\"+str(count14))\n",
    " "
   ]
  },
  {
   "cell_type": "markdown",
   "metadata": {
    "colab_type": "text",
    "id": "WT0yiHxJaklb"
   },
   "source": [
    "# Creation des models et apprentissage\n",
    "\n"
   ]
  },
  {
   "cell_type": "code",
   "execution_count": 9,
   "metadata": {
    "colab": {
     "base_uri": "https://localhost:8080/",
     "height": 1000
    },
    "colab_type": "code",
    "id": "lYoErPPiakld",
    "outputId": "8fae63e1-41c4-4e1a-c72e-ef3110b8631d"
   },
   "outputs": [
    {
     "name": "stdout",
     "output_type": "stream",
     "text": [
      "X[0] shape : (54630,)\n"
     ]
    }
   ],
   "source": [
    "from sklearn.preprocessing import OneHotEncoder\n",
    "Y_step = numpy.copy(Y)\n",
    "Y_step2 = numpy.array(Y_step).reshape(-1, 1)\n",
    "from sklearn.utils.class_weight import compute_class_weight\n",
    "classWeight = compute_class_weight('balanced', [0,1,2,3,4,5], all_labels) \n",
    "classWeight = dict(enumerate(classWeight))\n",
    "\n",
    "Y_step2 = numpy.array(Y_step2)\n",
    "X_step = numpy.array(X)\n",
    "print(\"X[0] shape : \"+str(X[0].shape))\n",
    "train_x, test_x, train_y, test_y = train_test_split(X_step, Y_step2, test_size=0.33, random_state=42)\n",
    "import pickle\n",
    "with open('train_x.pickle', 'wb') as handle:\n",
    "    pickle.dump(train_x, handle, protocol=pickle.HIGHEST_PROTOCOL)\n",
    "with open('train_y.pickle', 'wb') as handle2:\n",
    "    pickle.dump(train_y, handle2, protocol=pickle.HIGHEST_PROTOCOL)\n",
    "with open('test_x.pickle', 'wb') as handle3:\n",
    "    pickle.dump(test_x, handle3, protocol=pickle.HIGHEST_PROTOCOL)\n",
    "with open('test_y.pickle', 'wb') as handle4:\n",
    "    pickle.dump(test_y, handle4, protocol=pickle.HIGHEST_PROTOCOL)\n"
   ]
  },
  {
   "cell_type": "code",
   "execution_count": null,
   "metadata": {},
   "outputs": [],
   "source": []
  }
 ],
 "metadata": {
  "accelerator": "GPU",
  "colab": {
   "collapsed_sections": [],
   "machine_shape": "hm",
   "name": "Data Processing and Deep Learning .ipynb",
   "provenance": []
  },
  "kernelspec": {
   "display_name": "Python 3",
   "language": "python",
   "name": "python3"
  },
  "language_info": {
   "codemirror_mode": {
    "name": "ipython",
    "version": 3
   },
   "file_extension": ".py",
   "mimetype": "text/x-python",
   "name": "python",
   "nbconvert_exporter": "python",
   "pygments_lexer": "ipython3",
   "version": "3.8.2"
  }
 },
 "nbformat": 4,
 "nbformat_minor": 1
}
